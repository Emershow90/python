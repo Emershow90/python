{
  "nbformat": 4,
  "nbformat_minor": 0,
  "metadata": {
    "colab": {
      "provenance": [],
      "authorship_tag": "ABX9TyMLlKYOC1RekHvURMT8Lut5",
      "include_colab_link": true
    },
    "kernelspec": {
      "name": "python3",
      "display_name": "Python 3"
    },
    "language_info": {
      "name": "python"
    }
  },
  "cells": [
    {
      "cell_type": "markdown",
      "metadata": {
        "id": "view-in-github",
        "colab_type": "text"
      },
      "source": [
        "<a href=\"https://colab.research.google.com/github/Emershow90/python/blob/main/Calculadora_py.ipynb\" target=\"_parent\"><img src=\"https://colab.research.google.com/assets/colab-badge.svg\" alt=\"Open In Colab\"/></a>"
      ]
    },
    {
      "cell_type": "code",
      "execution_count": 10,
      "metadata": {
        "colab": {
          "base_uri": "https://localhost:8080/"
        },
        "id": "4fLDMHeGNkYN",
        "outputId": "d6c3b473-09f9-4c48-841f-d8d6a4cb74d3"
      },
      "outputs": [
        {
          "output_type": "stream",
          "name": "stdout",
          "text": [
            "Digite o preço de venda: 5.95\n",
            "Digite a taxa de juros simples: 10.76\n",
            "Digite a porcentagem de frete de vendas: 0\n",
            "Digite a porcentagem de vendas via cartão de crédito: 0\n",
            "Digite a taxa do cartão de crédito: 0\n",
            "Digite a porcentagem de outros custos variáveis: 0\n",
            "Digite a porcentagem de comissão: 18\n",
            "Digite a margem de contribuição objetivada: 20\n",
            "O preço de venda nominal é:  11.612021857923498\n"
          ]
        }
      ],
      "source": [
        "def preco_venda_nominal():\n",
        "    try:\n",
        "        preco_venda = float(input(\"Digite o preço de venda: \"))\n",
        "        juros_simples = float(input(\"Digite a taxa de juros simples: \"))\n",
        "        porcentagem_frete_vendas = float(input(\"Digite a porcentagem de frete de vendas: \"))\n",
        "        vendas_cartao_credito = float(input(\"Digite a porcentagem de vendas via cartão de crédito: \"))\n",
        "        taxa_cartao = float(input(\"Digite a taxa do cartão de crédito: \"))\n",
        "        outros_custos_variaveis = float(input(\"Digite a porcentagem de outros custos variáveis: \"))\n",
        "        comissao = float(input(\"Digite a porcentagem de comissão: \"))\n",
        "        margem_contribuicao_objetivada = float(input(\"Digite a margem de contribuição objetivada: \"))\n",
        "\n",
        "        juros_simples = juros_simples / 100\n",
        "        porcentagem_frete_vendas = porcentagem_frete_vendas / 100\n",
        "        vendas_cartao_credito = vendas_cartao_credito / 100\n",
        "        taxa_cartao = taxa_cartao / 100\n",
        "        outros_custos_variaveis = outros_custos_variaveis / 100\n",
        "        comissao = comissao / 100\n",
        "        margem_contribuicao_objetivada = margem_contribuicao_objetivada / 100\n",
        "\n",
        "        preco_venda_nominal = preco_venda / (1 - (juros_simples + porcentagem_frete_vendas + (vendas_cartao_credito * taxa_cartao) + outros_custos_variaveis + comissao + margem_contribuicao_objetivada))\n",
        "\n",
        "        print(\"O preço de venda nominal é: \", preco_venda_nominal)\n",
        "    except ValueError:\n",
        "        print(\"Valor inválido, por favor digite um número.\")\n",
        "\n",
        "preco_venda_nominal()\n"
      ]
    },
    {
      "cell_type": "code",
      "source": [],
      "metadata": {
        "id": "DDXipeoWR4O1"
      },
      "execution_count": null,
      "outputs": []
    }
  ]
}